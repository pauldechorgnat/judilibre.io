{
 "cells": [
  {
   "cell_type": "code",
   "execution_count": 5,
   "id": "2cc28e86-2a19-4459-8cc1-0685d8c42763",
   "metadata": {},
   "outputs": [
    {
     "name": "stdout",
     "output_type": "stream",
     "text": [
      "Running Chroma using direct local API.\n",
      "Using DuckDB in-memory for database. Data will be transient.\n",
      "No embedding_function provided, using default embedding function: SentenceTransformerEmbeddingFunction\n",
      "Exiting: Cleaning up .chroma directory\n"
     ]
    }
   ],
   "source": [
    "import chromadb\n",
    "client = chromadb.Client()\n",
    "\n",
    "collection = client.create_collection(\"sample_collection\")\n",
    "\n",
    "collection.add(\n",
    "  embeddings=[[1.2, 2.3, 4.5, 1.], [6.7, 8.2, 9.2, 1.]],\n",
    "  documents=[\"This is a document\", \"This is another document\"],\n",
    "  metadatas=[{\"source\": \"my_source\"}, {\"source\": \"other_source\"}],\n",
    "  ids=[\"doc1\", \"doc2\"]\n",
    ")\n",
    "\n"
   ]
  },
  {
   "cell_type": "code",
   "execution_count": 7,
   "id": "162d35ea-7e70-47e0-88c8-9d98e3d29700",
   "metadata": {},
   "outputs": [
    {
     "data": {
      "text/plain": [
       "{'ids': [['doc1', 'doc2']],\n",
       " 'embeddings': None,\n",
       " 'documents': [['This is a document', 'This is another document']],\n",
       " 'metadatas': [[{'source': 'my_source'}, {'source': 'other_source'}]],\n",
       " 'distances': [[19.579999923706055, 58.969993591308594]]}"
      ]
     },
     "execution_count": 7,
     "metadata": {},
     "output_type": "execute_result"
    }
   ],
   "source": [
    "collection.query(\n",
    "  query_embeddings=[5.0, 4.0, 3.0, 1.],\n",
    "  n_results=2,\n",
    "  # where={\"source\": \"my_source\"}\n",
    ")  "
   ]
  },
  {
   "cell_type": "code",
   "execution_count": null,
   "id": "9240848d-490c-4dbf-959a-f44a51ce00b1",
   "metadata": {},
   "outputs": [],
   "source": []
  }
 ],
 "metadata": {
  "kernelspec": {
   "display_name": "Python 3 (ipykernel)",
   "language": "python",
   "name": "python3"
  },
  "language_info": {
   "codemirror_mode": {
    "name": "ipython",
    "version": 3
   },
   "file_extension": ".py",
   "mimetype": "text/x-python",
   "name": "python",
   "nbconvert_exporter": "python",
   "pygments_lexer": "ipython3",
   "version": "3.10.6"
  }
 },
 "nbformat": 4,
 "nbformat_minor": 5
}
