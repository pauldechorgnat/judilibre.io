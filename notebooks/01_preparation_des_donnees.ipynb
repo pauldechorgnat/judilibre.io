{
 "cells": [
  {
   "cell_type": "code",
   "execution_count": 1,
   "id": "005b0152-bf65-4de0-a6a9-a4a541bba747",
   "metadata": {},
   "outputs": [],
   "source": [
    "import json"
   ]
  },
  {
   "cell_type": "code",
   "execution_count": 2,
   "id": "a8b764f2-dfaf-4c41-bae0-c8f7ca551d4b",
   "metadata": {},
   "outputs": [],
   "source": [
    "data = []\n",
    "\n",
    "with open(\"ca_data.json\", \"r\") as file:\n",
    "    data.extend(json.load(file)[\"results\"])\n",
    "    \n",
    "\n",
    "with open(\"cc_data.json\", \"r\") as file:\n",
    "    data.extend(json.load(file)[\"results\"])"
   ]
  },
  {
   "cell_type": "code",
   "execution_count": 3,
   "id": "0ed4af03-f11d-4b2e-8060-f3290829767a",
   "metadata": {},
   "outputs": [
    {
     "data": {
      "text/plain": [
       "2000"
      ]
     },
     "execution_count": 3,
     "metadata": {},
     "output_type": "execute_result"
    }
   ],
   "source": [
    "len(data)"
   ]
  },
  {
   "cell_type": "code",
   "execution_count": 4,
   "id": "863c5bd4-4c58-4f8b-8b55-6c48ccf36df3",
   "metadata": {},
   "outputs": [],
   "source": [
    "with open(\"data.json\", \"w\") as file:\n",
    "    json.dump(data, file)"
   ]
  }
 ],
 "metadata": {
  "kernelspec": {
   "display_name": "Python 3 (ipykernel)",
   "language": "python",
   "name": "python3"
  },
  "language_info": {
   "codemirror_mode": {
    "name": "ipython",
    "version": 3
   },
   "file_extension": ".py",
   "mimetype": "text/x-python",
   "name": "python",
   "nbconvert_exporter": "python",
   "pygments_lexer": "ipython3",
   "version": "3.10.6"
  }
 },
 "nbformat": 4,
 "nbformat_minor": 5
}
