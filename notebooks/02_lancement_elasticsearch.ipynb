{
 "cells": [
  {
   "cell_type": "code",
   "execution_count": 1,
   "id": "1356acbc-69aa-437f-942d-3d58a95a86b1",
   "metadata": {},
   "outputs": [
    {
     "name": "stdout",
     "output_type": "stream",
     "text": [
      "Defaulting to user installation because normal site-packages is not writeable\n",
      "Requirement already satisfied: elasticsearch in /home/paul/.local/lib/python3.10/site-packages (8.6.2)\n",
      "Requirement already satisfied: elastic-transport<9,>=8 in /home/paul/.local/lib/python3.10/site-packages (from elasticsearch) (8.4.0)\n",
      "Requirement already satisfied: urllib3<2,>=1.26.2 in /usr/lib/python3/dist-packages (from elastic-transport<9,>=8->elasticsearch) (1.26.5)\n",
      "Requirement already satisfied: certifi in /usr/lib/python3/dist-packages (from elastic-transport<9,>=8->elasticsearch) (2020.6.20)\n"
     ]
    }
   ],
   "source": [
    "! pip install elasticsearch"
   ]
  },
  {
   "cell_type": "code",
   "execution_count": 16,
   "id": "3fa4fe6d-7c97-4a9a-aa92-d4298e74def6",
   "metadata": {},
   "outputs": [
    {
     "name": "stdout",
     "output_type": "stream",
     "text": [
      "Unable to find image 'elasticsearch:7.17.9' locally\n",
      "7.17.9: Pulling from library/elasticsearch\n",
      "\n",
      "\u001b[1B0b181fff: Already exists \n",
      "\u001b[1Ba17d6585: Pulling fs layer \n",
      "\u001b[1Bee74d0cb: Pulling fs layer \n",
      "\u001b[1B9d1798a4: Pulling fs layer \n",
      "\u001b[1B4d225465: Pulling fs layer \n",
      "\u001b[1B07e8486f: Pulling fs layer \n",
      "\u001b[1Ba9497b4b: Pulling fs layer \n",
      "\u001b[1Be99f0398: Pulling fs layer \n",
      "\u001b[1BDigest: sha256:e04ffd9739aa018693acb752f13c5791d15185a8c48e18a0ebd7055d1a203291[8A\u001b[2K\u001b[4A\u001b[2K\u001b[8A\u001b[2K\u001b[7A\u001b[2K\u001b[7A\u001b[2K\u001b[6A\u001b[2K\u001b[6A\u001b[2K\u001b[6A\u001b[2K\u001b[6A\u001b[2K\u001b[1A\u001b[2K\u001b[6A\u001b[2K\u001b[6A\u001b[2K\u001b[6A\u001b[2K\u001b[6A\u001b[2K\u001b[6A\u001b[2K\u001b[6A\u001b[2K\u001b[6A\u001b[2K\u001b[6A\u001b[2K\u001b[6A\u001b[2K\u001b[6A\u001b[2K\u001b[6A\u001b[2K\u001b[6A\u001b[2K\u001b[6A\u001b[2K\u001b[6A\u001b[2K\u001b[6A\u001b[2K\u001b[6A\u001b[2K\u001b[6A\u001b[2K\u001b[6A\u001b[2K\u001b[6A\u001b[2K\u001b[6A\u001b[2K\u001b[6A\u001b[2K\u001b[6A\u001b[2K\u001b[6A\u001b[2K\u001b[6A\u001b[2K\u001b[6A\u001b[2K\u001b[6A\u001b[2K\u001b[6A\u001b[2K\u001b[6A\u001b[2K\u001b[6A\u001b[2K\u001b[6A\u001b[2K\u001b[6A\u001b[2K\u001b[6A\u001b[2K\u001b[6A\u001b[2K\u001b[6A\u001b[2K\u001b[6A\u001b[2K\u001b[6A\u001b[2K\u001b[6A\u001b[2K\u001b[6A\u001b[2K\u001b[6A\u001b[2K\u001b[6A\u001b[2K\u001b[6A\u001b[2K\u001b[6A\u001b[2K\u001b[6A\u001b[2K\u001b[6A\u001b[2K\u001b[6A\u001b[2K\u001b[6A\u001b[2K\u001b[6A\u001b[2K\u001b[6A\u001b[2K\u001b[6A\u001b[2K\u001b[6A\u001b[2K\u001b[6A\u001b[2K\u001b[6A\u001b[2K\u001b[6A\u001b[2K\u001b[6A\u001b[2K\u001b[6A\u001b[2K\u001b[6A\u001b[2K\u001b[6A\u001b[2K\u001b[6A\u001b[2K\u001b[6A\u001b[2K\u001b[6A\u001b[2K\u001b[6A\u001b[2K\u001b[6A\u001b[2K\u001b[6A\u001b[2K\u001b[6A\u001b[2K\u001b[6A\u001b[2K\u001b[6A\u001b[2K\u001b[6A\u001b[2K\u001b[6A\u001b[2K\u001b[6A\u001b[2K\u001b[6A\u001b[2K\u001b[6A\u001b[2K\u001b[6A\u001b[2K\u001b[6A\u001b[2K\u001b[6A\u001b[2K\u001b[6A\u001b[2K\u001b[6A\u001b[2K\u001b[6A\u001b[2K\u001b[6A\u001b[2K\u001b[6A\u001b[2K\u001b[6A\u001b[2K\u001b[6A\u001b[2K\u001b[6A\u001b[2K\u001b[6A\u001b[2K\u001b[6A\u001b[2K\u001b[6A\u001b[2K\u001b[6A\u001b[2K\u001b[5A\u001b[2K\u001b[4A\u001b[2K\u001b[3A\u001b[2K\u001b[2A\u001b[2K\u001b[1A\u001b[2K\n",
      "Status: Downloaded newer image for elasticsearch:7.17.9\n",
      "2e6880451570dacfafb7c21405423081f00da5b6891ad62910abbcab28d7c386\n"
     ]
    }
   ],
   "source": [
    "! docker container run -p 9200:9200 -p 9300:9300 -d --rm -e \"discovery.type=single-node\" --name elasticsearch elasticsearch:7.17.9"
   ]
  },
  {
   "cell_type": "code",
   "execution_count": 17,
   "id": "06855288-0730-493f-8e8a-b7bdff40b2a1",
   "metadata": {},
   "outputs": [],
   "source": [
    "from elasticsearch import Elasticsearch"
   ]
  },
  {
   "cell_type": "code",
   "execution_count": 18,
   "id": "e6dc2fb3-5d43-4c76-bea3-aea0b2a136ff",
   "metadata": {},
   "outputs": [],
   "source": [
    "es_client = Elasticsearch(hosts=\"http://localhost:9200\")"
   ]
  },
  {
   "cell_type": "markdown",
   "id": "a95ffd68-05a3-4359-bb9e-a3add79f53c7",
   "metadata": {},
   "source": [
    "## Documentation \n",
    "\n",
    "Issu de la documentation d'ElasticSearch\n",
    "\n",
    "\n",
    "```python\n",
    "from datetime import datetime\n",
    "from elasticsearch import Elasticsearch\n",
    "es = Elasticsearch()\n",
    "\n",
    "doc = {\n",
    "    'author': 'kimchy',\n",
    "    'text': 'Elasticsearch: cool. bonsai cool.',\n",
    "    'timestamp': datetime.now(),\n",
    "}\n",
    "resp = es.index(index=\"test-index\", id=1, document=doc)\n",
    "print(resp['result'])\n",
    "\n",
    "resp = es.get(index=\"test-index\", id=1)\n",
    "print(resp['_source'])\n",
    "\n",
    "es.indices.refresh(index=\"test-index\")\n",
    "\n",
    "resp = es.search(index=\"test-index\", query={\"match_all\": {}})\n",
    "print(\"Got %d Hits:\" % resp['hits']['total']['value'])\n",
    "for hit in resp['hits']['hits']:\n",
    "    print(\"%(timestamp)s %(author)s: %(text)s\" % hit[\"_source\"])\n",
    "```"
   ]
  },
  {
   "cell_type": "code",
   "execution_count": 19,
   "id": "89a95d8b-8735-44f3-906e-e854d8993e7e",
   "metadata": {},
   "outputs": [],
   "source": [
    "from pprint import pprint"
   ]
  },
  {
   "cell_type": "code",
   "execution_count": 30,
   "id": "fdbe477a-dd58-49b5-b187-85d60090d1d8",
   "metadata": {},
   "outputs": [],
   "source": [
    "import json\n",
    "\n",
    "with open(\"data.json\") as file:\n",
    "    data = json.load(file)\n",
    "\n",
    "data = sorted(data, key=lambda d: len(d[\"text\"]))"
   ]
  },
  {
   "cell_type": "code",
   "execution_count": 31,
   "id": "e04edc37-d49e-4413-8aca-c72f3a42f088",
   "metadata": {},
   "outputs": [
    {
     "name": "stdout",
     "output_type": "stream",
     "text": [
      "'created'\n"
     ]
    },
    {
     "name": "stderr",
     "output_type": "stream",
     "text": [
      "/tmp/ipykernel_36888/3564478521.py:4: ElasticsearchWarning: Elasticsearch built-in security features are not enabled. Without authentication, your cluster could be accessible to anyone. See https://www.elastic.co/guide/en/elasticsearch/reference/7.17/security-minimal-setup.html to enable security.\n",
      "  resp = es_client.index(index=\"test-index\", id=doc_id, document=doc)\n"
     ]
    }
   ],
   "source": [
    "doc = data[0]\n",
    "doc_id = doc.pop(\"id\")\n",
    "\n",
    "resp = es_client.index(index=\"test-index\", id=doc_id, document=doc)\n",
    "pprint(resp[\"result\"])"
   ]
  },
  {
   "cell_type": "code",
   "execution_count": 32,
   "id": "a363b4c1-3ff8-4a14-a6af-b6ed49584d97",
   "metadata": {},
   "outputs": [
    {
     "name": "stdout",
     "output_type": "stream",
     "text": [
      "{'chamber': 'Chambre 3-4',\n",
      " 'contested': None,\n",
      " 'decision_date': '2023-02-24',\n",
      " 'decision_datetime': '2023-02-23T23:00:00.000Z',\n",
      " 'files': [],\n",
      " 'forward': None,\n",
      " 'jurisdiction': 'ca',\n",
      " 'legacy': {'matiereDeterminee': 0, 'pourvoiCcas': 0, 'pourvoiLocal': 0},\n",
      " 'location': 'ca_aix_provence',\n",
      " 'nac': '53F',\n",
      " 'number': '23/01006',\n",
      " 'numbers': ['23/01006'],\n",
      " 'partial': False,\n",
      " 'portalis': None,\n",
      " 'publication': [],\n",
      " 'rapprochements': [],\n",
      " 'solution': 'other',\n",
      " 'solution_alt': \"Retire l'affaire du rôle sur demande conjointe des parties\",\n",
      " 'source': 'jurica',\n",
      " 'text': \"COUR D'APPEL D'AIX-EN-PROVENCE\\n\"\n",
      "         '\\n'\n",
      "         '[Adresse 1]\\n'\n",
      "         '\\n'\n",
      "         '[Localité 2]\\n'\n",
      "         '\\n'\n",
      "         '\\n'\n",
      "         '\\n'\n",
      "         '\\n'\n",
      "         '\\n'\n",
      "         '\\n'\n",
      "         '\\n'\n",
      "         'Chambre 3-4\\n'\n",
      "         '\\n'\n",
      "         '\\n'\n",
      "         '\\n'\n",
      "         'N° RG 23/01006 - N° Portalis DBVB-V-B7H-BKURO\\n'\n",
      "         '\\n'\n",
      "         '\\n'\n",
      "         '\\n'\n",
      "         'S.A.S. CEGELEASE\\n'\n",
      "         '\\n'\n",
      "         'Représentant : Me Walter VALENTINI de la SELARL VALENTINI & '\n",
      "         'PAOLETTI, avocat au barreau de GRASSE\\n'\n",
      "         '\\n'\n",
      "         '\\n'\n",
      "         '\\n'\n",
      "         'Appelante\\n'\n",
      "         '\\n'\n",
      "         'Mme [G] [N] épouse [K]\\n'\n",
      "         '\\n'\n",
      "         '\\n'\n",
      "         '\\n'\n",
      "         'Intimée\\n'\n",
      "         '\\n'\n",
      "         '\\n'\n",
      "         '\\n'\n",
      "         '\\n'\n",
      "         '\\n'\n",
      "         'Ordonnance n° 2023/M57\\n'\n",
      "         '\\n'\n",
      "         '\\n'\n",
      "         '\\n'\n",
      "         '\\n'\n",
      "         '\\n'\n",
      "         'ORDONNANCE DE RETRAIT DU RÔLE\\n'\n",
      "         '\\n'\n",
      "         '\\n'\n",
      "         '\\n'\n",
      "         '\\n'\n",
      "         '\\n'\n",
      "         'NOUS, Anne-Laurence CHALBOS , magistrat de la mise en état de la '\n",
      "         \"Chambre 3-4 de la cour d'appel d'Aix-en-Provence, assistée de \"\n",
      "         'Valérie VIOLET, greffier,\\n'\n",
      "         '\\n'\n",
      "         '\\n'\n",
      "         '\\n'\n",
      "         \"Vu la demande écrite et motivée de l'appelante sollicitant le \"\n",
      "         'retrait du rôle ;\\n'\n",
      "         '\\n'\n",
      "         '\\n'\n",
      "         '\\n'\n",
      "         \"Vu l'article 382 du code de procédure civile ;\\n\"\n",
      "         '\\n'\n",
      "         '\\n'\n",
      "         '\\n'\n",
      "         '\\n'\n",
      "         '\\n'\n",
      "         'PAR CES MOTIFS\\n'\n",
      "         '\\n'\n",
      "         '\\n'\n",
      "         '\\n'\n",
      "         '\\n'\n",
      "         '\\n'\n",
      "         \"Prononçons le retrait du rôle de l'affaire N° RG 23/01006 - N° \"\n",
      "         'Portalis DBVB-V-B7H-BKURO.\\n'\n",
      "         '\\n'\n",
      "         '\\n'\n",
      "         '\\n'\n",
      "         '\\n'\n",
      "         '\\n'\n",
      "         'Fait à [Localité 2], le 24 Février 2023\\n'\n",
      "         '\\n'\n",
      "         '\\n'\n",
      "         '\\n'\n",
      "         '\\n'\n",
      "         '\\n'\n",
      "         'Le greffier Le magistrat de la mise en état\\n'\n",
      "         '\\n'\n",
      "         '\\n'\n",
      "         '\\n'\n",
      "         '\\n'\n",
      "         '\\n'\n",
      "         '\\n'\n",
      "         '\\n'\n",
      "         '\\n'\n",
      "         '\\n'\n",
      "         \"- Copie délivrée à l'avocat de l'appelant le :24/02/23\",\n",
      " 'themes': ['Crédit-bail ou leasing - Demande en paiement des loyers et/ou en '\n",
      "            'résiliation du crédit-bail'],\n",
      " 'timeline': None,\n",
      " 'type': 'ordonnance',\n",
      " 'update_date': '2023-03-01',\n",
      " 'update_datetime': '2023-02-28T23:00:00.000Z',\n",
      " 'visa': [],\n",
      " 'zones': {'dispositif': [{'end': 920, 'start': 652}],\n",
      "           'introduction': [{'end': 514, 'start': 0}],\n",
      "           'moyens': [{'end': 652, 'start': 517}]}}\n"
     ]
    },
    {
     "name": "stderr",
     "output_type": "stream",
     "text": [
      "/tmp/ipykernel_36888/113151471.py:1: ElasticsearchWarning: Elasticsearch built-in security features are not enabled. Without authentication, your cluster could be accessible to anyone. See https://www.elastic.co/guide/en/elasticsearch/reference/7.17/security-minimal-setup.html to enable security.\n",
      "  resp = es_client.get(index=\"test-index\", id=doc_id)\n"
     ]
    }
   ],
   "source": [
    "resp = es_client.get(index=\"test-index\", id=doc_id)\n",
    "pprint(resp['_source'])"
   ]
  },
  {
   "cell_type": "code",
   "execution_count": null,
   "id": "6d124fba-bca5-4457-b553-03bcf49d05d0",
   "metadata": {},
   "outputs": [],
   "source": [
    "resp = es.indices.refresh(index=\"test-index\")\n"
   ]
  },
  {
   "cell_type": "code",
   "execution_count": 11,
   "id": "9f12a6b9-dadc-47b9-a731-0f3852fa5717",
   "metadata": {},
   "outputs": [],
   "source": [
    "from tqdm import tqdm"
   ]
  },
  {
   "cell_type": "code",
   "execution_count": null,
   "id": "da0a2720-f3a8-46e1-984f-d7862d8668ad",
   "metadata": {},
   "outputs": [],
   "source": [
    "for d in tqdm(data):\n",
    "    "
   ]
  }
 ],
 "metadata": {
  "kernelspec": {
   "display_name": "Python 3 (ipykernel)",
   "language": "python",
   "name": "python3"
  },
  "language_info": {
   "codemirror_mode": {
    "name": "ipython",
    "version": 3
   },
   "file_extension": ".py",
   "mimetype": "text/x-python",
   "name": "python",
   "nbconvert_exporter": "python",
   "pygments_lexer": "ipython3",
   "version": "3.10.6"
  }
 },
 "nbformat": 4,
 "nbformat_minor": 5
}
